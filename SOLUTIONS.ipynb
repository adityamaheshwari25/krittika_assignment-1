{
 "cells": [
  {
   "cell_type": "code",
   "execution_count": 7,
   "metadata": {},
   "outputs": [],
   "source": [
    "import pandas as pd"
   ]
  },
  {
   "cell_type": "code",
   "execution_count": 13,
   "metadata": {},
   "outputs": [],
   "source": [
    "import matplotlib.pyplot as plt\n"
   ]
  },
  {
   "cell_type": "code",
   "execution_count": 16,
   "metadata": {},
   "outputs": [],
   "source": [
    "file1 = pd.read_csv(\"https://raw.githubusercontent.com/krittikaiitb/2021_convener_selection/main/Dataset_Q1.csv\")"
   ]
  },
  {
   "cell_type": "code",
   "execution_count": 17,
   "metadata": {
    "scrolled": true
   },
   "outputs": [
    {
     "name": "stdout",
     "output_type": "stream",
     "text": [
      "   #Sr.No. Name  Roll Number Have you attended Krittika events Before?\n",
      "0        1  abc     20000003                                       Yes\n",
      "1        2  def     20000006                                        No\n",
      "2        3  ghi     20010000                                        No\n",
      "3        4  jkl     19020000                                       Yes\n",
      "4        5  lmn     20000304                                        No\n"
     ]
    }
   ],
   "source": [
    "print (file1.head())"
   ]
  },
  {
   "cell_type": "code",
   "execution_count": 18,
   "metadata": {},
   "outputs": [
    {
     "name": "stdout",
     "output_type": "stream",
     "text": [
      "[[1 'abc' 20000003 'Yes']\n",
      " [2 'def' 20000006 'No']\n",
      " [3 'ghi' 20010000 'No']\n",
      " [4 'jkl' 19020000 'Yes']\n",
      " [5 'lmn' 20000304 'No']]\n"
     ]
    }
   ],
   "source": [
    "arr = file1.to_numpy()\n",
    "\n",
    "print(arr)"
   ]
  },
  {
   "cell_type": "code",
   "execution_count": 47,
   "metadata": {},
   "outputs": [],
   "source": [
    "def get_emails(files):\n",
    "    emails = ''\n",
    "    for i in range(len(file1.index)-1):\n",
    "        emails = emails + str(arr[i,2]) + '@iitb.ac.in, '\n",
    "    emails = emails + str(arr[len(file1.index)-1,2]) + '@iitb.ac.in' \n",
    "    print(emails)"
   ]
  },
  {
   "cell_type": "code",
   "execution_count": 48,
   "metadata": {},
   "outputs": [
    {
     "name": "stdout",
     "output_type": "stream",
     "text": [
      "20000003@iitb.ac.in, 20000006@iitb.ac.in, 20010000@iitb.ac.in, 19020000@iitb.ac.in, 20000304@iitb.ac.in\n"
     ]
    }
   ],
   "source": [
    "get_emails(arr)"
   ]
  },
  {
   "cell_type": "code",
   "execution_count": 51,
   "metadata": {},
   "outputs": [
    {
     "name": "stdout",
     "output_type": "stream",
     "text": [
      "   # mass(in EndorMasses)  Time Period(in EndorDays)  \\\n",
      "0                  0.0100                      60.01   \n",
      "1                  0.0040                     115.62   \n",
      "2                  0.0033                     237.53   \n",
      "3                  0.0015                      35.57   \n",
      "4                  0.0070                     180.63   \n",
      "\n",
      "   Semimajor axis(in EndorRadii)  \n",
      "0                      81.837252  \n",
      "1                     108.672544  \n",
      "2                     143.725178  \n",
      "3                      68.362591  \n",
      "4                     127.421197  \n"
     ]
    }
   ],
   "source": [
    "file2 = pd.read_csv(\"https://raw.githubusercontent.com/krittikaiitb/2021_convener_selection/main/Dataset_Q2.csv\")\n",
    "print (file2.head())"
   ]
  },
  {
   "cell_type": "code",
   "execution_count": null,
   "metadata": {},
   "outputs": [],
   "source": []
  }
 ],
 "metadata": {
  "kernelspec": {
   "display_name": "Python 3",
   "language": "python",
   "name": "python3"
  },
  "language_info": {
   "codemirror_mode": {
    "name": "ipython",
    "version": 3
   },
   "file_extension": ".py",
   "mimetype": "text/x-python",
   "name": "python",
   "nbconvert_exporter": "python",
   "pygments_lexer": "ipython3",
   "version": "3.8.5"
  }
 },
 "nbformat": 4,
 "nbformat_minor": 4
}
